{
 "cells": [
  {
   "cell_type": "markdown",
   "id": "a4dada0c-5df4-4a9f-a338-503f6953b8e1",
   "metadata": {},
   "source": [
    "# Melbourne Housing Market"
   ]
  },
  {
   "cell_type": "markdown",
   "id": "f0059899-2b9b-41e8-a13f-0664acc704b0",
   "metadata": {},
   "source": [
    "#### Data Source:\n",
    "https://www.kaggle.com/datasets/anthonypino/melbourne-housing-market"
   ]
  },
  {
   "cell_type": "markdown",
   "id": "1bc7e3d8-67fb-4006-b25f-b59de9c27f5f",
   "metadata": {},
   "source": [
    "### FEATURE DESCRIPTION\n",
    "\n",
    "Some Key Details:\n",
    "Suburb: Suburb\n",
    "\n",
    "Address: Address\n",
    "\n",
    "Rooms: Number of rooms\n",
    "\n",
    "Price: Price in Australian dollars\n",
    "\n",
    "Method:\n",
    "S - property sold;\n",
    "SP - property sold prior;\n",
    "PI - property passed in;\n",
    "PN - sold prior not disclosed;\n",
    "SN - sold not disclosed;\n",
    "NB - no bid;\n",
    "VB - vendor bid;\n",
    "W - withdrawn prior to auction;\n",
    "SA - sold after auction;\n",
    "SS - sold after auction price not disclosed.\n",
    "N/A - price or highest bid not available.\n",
    "\n",
    "Type:\n",
    "br - bedroom(s);\n",
    "h - house,cottage,villa, semi,terrace;\n",
    "u - unit, duplex;\n",
    "t - townhouse;\n",
    "dev site - development site;\n",
    "o res - other residential.\n",
    "\n",
    "SellerG: Real Estate Agent\n",
    "\n",
    "Date: Date sold\n",
    "\n",
    "Distance: Distance from CBD in Kilometres\n",
    "\n",
    "Regionname: General Region (West, North West, North, North east …etc)\n",
    "\n",
    "Propertycount: Number of properties that exist in the suburb.\n",
    "\n",
    "Bedroom2 : Scraped # of Bedrooms (from different source)\n",
    "\n",
    "Bathroom: Number of Bathrooms\n",
    "\n",
    "Car: Number of carspots\n",
    "\n",
    "Landsize: Land Size in Metres\n",
    "\n",
    "BuildingArea: Building Size in Metres\n",
    "\n",
    "YearBuilt: Year the house was built\n",
    "\n",
    "CouncilArea: Governing council for the area\n",
    "\n",
    "Lattitude: Self explanitory\n",
    "\n",
    "Longtitude: Self explanitoryRooms"
   ]
  },
  {
   "cell_type": "markdown",
   "id": "781e559e-cbad-4b9e-a2c6-01c6984300a4",
   "metadata": {},
   "source": [
    "#### Import libraries"
   ]
  },
  {
   "cell_type": "code",
   "execution_count": 1,
   "id": "1155f534-3cd7-486e-a43b-9e9a21a62b0a",
   "metadata": {},
   "outputs": [],
   "source": [
    "import numpy as np\n",
    "import pandas as pd\n",
    "import matplotlib.pyplot as plt\n",
    "%matplotlib inline\n",
    "import seaborn as sns\n",
    "from scipy import stats\n",
    "\n",
    "import warnings \n",
    "warnings.filterwarnings(\"ignore\")\n"
   ]
  },
  {
   "cell_type": "markdown",
   "id": "842aa0be-f945-430d-82d4-3f7d6f0225fc",
   "metadata": {},
   "source": [
    "#### Overview"
   ]
  },
  {
   "cell_type": "code",
   "execution_count": 2,
   "id": "b1149d68-5eef-47fa-a9f8-56b070cfc132",
   "metadata": {},
   "outputs": [],
   "source": [
    "# load dataset\n",
    "df = pd.read_csv(\"melbourne_housing_full.csv\")"
   ]
  },
  {
   "cell_type": "code",
   "execution_count": 3,
   "id": "7a69bc9d-ad5d-4efc-bc85-8ca6ab63cd54",
   "metadata": {},
   "outputs": [
    {
     "data": {
      "text/html": [
       "<div>\n",
       "<style scoped>\n",
       "    .dataframe tbody tr th:only-of-type {\n",
       "        vertical-align: middle;\n",
       "    }\n",
       "\n",
       "    .dataframe tbody tr th {\n",
       "        vertical-align: top;\n",
       "    }\n",
       "\n",
       "    .dataframe thead th {\n",
       "        text-align: right;\n",
       "    }\n",
       "</style>\n",
       "<table border=\"1\" class=\"dataframe\">\n",
       "  <thead>\n",
       "    <tr style=\"text-align: right;\">\n",
       "      <th></th>\n",
       "      <th>Suburb</th>\n",
       "      <th>Address</th>\n",
       "      <th>Rooms</th>\n",
       "      <th>Type</th>\n",
       "      <th>Price</th>\n",
       "      <th>Method</th>\n",
       "      <th>SellerG</th>\n",
       "      <th>Date</th>\n",
       "      <th>Distance</th>\n",
       "      <th>Postcode</th>\n",
       "      <th>...</th>\n",
       "      <th>Bathroom</th>\n",
       "      <th>Car</th>\n",
       "      <th>Landsize</th>\n",
       "      <th>BuildingArea</th>\n",
       "      <th>YearBuilt</th>\n",
       "      <th>CouncilArea</th>\n",
       "      <th>Lattitude</th>\n",
       "      <th>Longtitude</th>\n",
       "      <th>Regionname</th>\n",
       "      <th>Propertycount</th>\n",
       "    </tr>\n",
       "  </thead>\n",
       "  <tbody>\n",
       "    <tr>\n",
       "      <th>0</th>\n",
       "      <td>Abbotsford</td>\n",
       "      <td>68 Studley St</td>\n",
       "      <td>2</td>\n",
       "      <td>h</td>\n",
       "      <td>NaN</td>\n",
       "      <td>SS</td>\n",
       "      <td>Jellis</td>\n",
       "      <td>3/09/2016</td>\n",
       "      <td>2.5</td>\n",
       "      <td>3067.0</td>\n",
       "      <td>...</td>\n",
       "      <td>1.0</td>\n",
       "      <td>1.0</td>\n",
       "      <td>126.0</td>\n",
       "      <td>NaN</td>\n",
       "      <td>NaN</td>\n",
       "      <td>Yarra City Council</td>\n",
       "      <td>-37.8014</td>\n",
       "      <td>144.9958</td>\n",
       "      <td>Northern Metropolitan</td>\n",
       "      <td>4019.0</td>\n",
       "    </tr>\n",
       "    <tr>\n",
       "      <th>1</th>\n",
       "      <td>Abbotsford</td>\n",
       "      <td>85 Turner St</td>\n",
       "      <td>2</td>\n",
       "      <td>h</td>\n",
       "      <td>1480000.0</td>\n",
       "      <td>S</td>\n",
       "      <td>Biggin</td>\n",
       "      <td>3/12/2016</td>\n",
       "      <td>2.5</td>\n",
       "      <td>3067.0</td>\n",
       "      <td>...</td>\n",
       "      <td>1.0</td>\n",
       "      <td>1.0</td>\n",
       "      <td>202.0</td>\n",
       "      <td>NaN</td>\n",
       "      <td>NaN</td>\n",
       "      <td>Yarra City Council</td>\n",
       "      <td>-37.7996</td>\n",
       "      <td>144.9984</td>\n",
       "      <td>Northern Metropolitan</td>\n",
       "      <td>4019.0</td>\n",
       "    </tr>\n",
       "    <tr>\n",
       "      <th>2</th>\n",
       "      <td>Abbotsford</td>\n",
       "      <td>25 Bloomburg St</td>\n",
       "      <td>2</td>\n",
       "      <td>h</td>\n",
       "      <td>1035000.0</td>\n",
       "      <td>S</td>\n",
       "      <td>Biggin</td>\n",
       "      <td>4/02/2016</td>\n",
       "      <td>2.5</td>\n",
       "      <td>3067.0</td>\n",
       "      <td>...</td>\n",
       "      <td>1.0</td>\n",
       "      <td>0.0</td>\n",
       "      <td>156.0</td>\n",
       "      <td>79.0</td>\n",
       "      <td>1900.0</td>\n",
       "      <td>Yarra City Council</td>\n",
       "      <td>-37.8079</td>\n",
       "      <td>144.9934</td>\n",
       "      <td>Northern Metropolitan</td>\n",
       "      <td>4019.0</td>\n",
       "    </tr>\n",
       "    <tr>\n",
       "      <th>3</th>\n",
       "      <td>Abbotsford</td>\n",
       "      <td>18/659 Victoria St</td>\n",
       "      <td>3</td>\n",
       "      <td>u</td>\n",
       "      <td>NaN</td>\n",
       "      <td>VB</td>\n",
       "      <td>Rounds</td>\n",
       "      <td>4/02/2016</td>\n",
       "      <td>2.5</td>\n",
       "      <td>3067.0</td>\n",
       "      <td>...</td>\n",
       "      <td>2.0</td>\n",
       "      <td>1.0</td>\n",
       "      <td>0.0</td>\n",
       "      <td>NaN</td>\n",
       "      <td>NaN</td>\n",
       "      <td>Yarra City Council</td>\n",
       "      <td>-37.8114</td>\n",
       "      <td>145.0116</td>\n",
       "      <td>Northern Metropolitan</td>\n",
       "      <td>4019.0</td>\n",
       "    </tr>\n",
       "    <tr>\n",
       "      <th>4</th>\n",
       "      <td>Abbotsford</td>\n",
       "      <td>5 Charles St</td>\n",
       "      <td>3</td>\n",
       "      <td>h</td>\n",
       "      <td>1465000.0</td>\n",
       "      <td>SP</td>\n",
       "      <td>Biggin</td>\n",
       "      <td>4/03/2017</td>\n",
       "      <td>2.5</td>\n",
       "      <td>3067.0</td>\n",
       "      <td>...</td>\n",
       "      <td>2.0</td>\n",
       "      <td>0.0</td>\n",
       "      <td>134.0</td>\n",
       "      <td>150.0</td>\n",
       "      <td>1900.0</td>\n",
       "      <td>Yarra City Council</td>\n",
       "      <td>-37.8093</td>\n",
       "      <td>144.9944</td>\n",
       "      <td>Northern Metropolitan</td>\n",
       "      <td>4019.0</td>\n",
       "    </tr>\n",
       "  </tbody>\n",
       "</table>\n",
       "<p>5 rows × 21 columns</p>\n",
       "</div>"
      ],
      "text/plain": [
       "       Suburb             Address  Rooms Type      Price Method SellerG  \\\n",
       "0  Abbotsford       68 Studley St      2    h        NaN     SS  Jellis   \n",
       "1  Abbotsford        85 Turner St      2    h  1480000.0      S  Biggin   \n",
       "2  Abbotsford     25 Bloomburg St      2    h  1035000.0      S  Biggin   \n",
       "3  Abbotsford  18/659 Victoria St      3    u        NaN     VB  Rounds   \n",
       "4  Abbotsford        5 Charles St      3    h  1465000.0     SP  Biggin   \n",
       "\n",
       "        Date  Distance  Postcode  ...  Bathroom  Car  Landsize  BuildingArea  \\\n",
       "0  3/09/2016       2.5    3067.0  ...       1.0  1.0     126.0           NaN   \n",
       "1  3/12/2016       2.5    3067.0  ...       1.0  1.0     202.0           NaN   \n",
       "2  4/02/2016       2.5    3067.0  ...       1.0  0.0     156.0          79.0   \n",
       "3  4/02/2016       2.5    3067.0  ...       2.0  1.0       0.0           NaN   \n",
       "4  4/03/2017       2.5    3067.0  ...       2.0  0.0     134.0         150.0   \n",
       "\n",
       "   YearBuilt         CouncilArea Lattitude  Longtitude             Regionname  \\\n",
       "0        NaN  Yarra City Council  -37.8014    144.9958  Northern Metropolitan   \n",
       "1        NaN  Yarra City Council  -37.7996    144.9984  Northern Metropolitan   \n",
       "2     1900.0  Yarra City Council  -37.8079    144.9934  Northern Metropolitan   \n",
       "3        NaN  Yarra City Council  -37.8114    145.0116  Northern Metropolitan   \n",
       "4     1900.0  Yarra City Council  -37.8093    144.9944  Northern Metropolitan   \n",
       "\n",
       "  Propertycount  \n",
       "0        4019.0  \n",
       "1        4019.0  \n",
       "2        4019.0  \n",
       "3        4019.0  \n",
       "4        4019.0  \n",
       "\n",
       "[5 rows x 21 columns]"
      ]
     },
     "execution_count": 3,
     "metadata": {},
     "output_type": "execute_result"
    }
   ],
   "source": [
    "df.head()"
   ]
  },
  {
   "cell_type": "code",
   "execution_count": 4,
   "id": "8b4db6a6-72ad-40fd-b2e1-0da6a07d54ce",
   "metadata": {},
   "outputs": [
    {
     "data": {
      "text/html": [
       "<div>\n",
       "<style scoped>\n",
       "    .dataframe tbody tr th:only-of-type {\n",
       "        vertical-align: middle;\n",
       "    }\n",
       "\n",
       "    .dataframe tbody tr th {\n",
       "        vertical-align: top;\n",
       "    }\n",
       "\n",
       "    .dataframe thead th {\n",
       "        text-align: right;\n",
       "    }\n",
       "</style>\n",
       "<table border=\"1\" class=\"dataframe\">\n",
       "  <thead>\n",
       "    <tr style=\"text-align: right;\">\n",
       "      <th></th>\n",
       "      <th>Suburb</th>\n",
       "      <th>Address</th>\n",
       "      <th>Rooms</th>\n",
       "      <th>Type</th>\n",
       "      <th>Price</th>\n",
       "      <th>Method</th>\n",
       "      <th>SellerG</th>\n",
       "      <th>Date</th>\n",
       "      <th>Distance</th>\n",
       "      <th>Postcode</th>\n",
       "      <th>...</th>\n",
       "      <th>Bathroom</th>\n",
       "      <th>Car</th>\n",
       "      <th>Landsize</th>\n",
       "      <th>BuildingArea</th>\n",
       "      <th>YearBuilt</th>\n",
       "      <th>CouncilArea</th>\n",
       "      <th>Lattitude</th>\n",
       "      <th>Longtitude</th>\n",
       "      <th>Regionname</th>\n",
       "      <th>Propertycount</th>\n",
       "    </tr>\n",
       "  </thead>\n",
       "  <tbody>\n",
       "    <tr>\n",
       "      <th>34852</th>\n",
       "      <td>Yarraville</td>\n",
       "      <td>13 Burns St</td>\n",
       "      <td>4</td>\n",
       "      <td>h</td>\n",
       "      <td>1480000.0</td>\n",
       "      <td>PI</td>\n",
       "      <td>Jas</td>\n",
       "      <td>24/02/2018</td>\n",
       "      <td>6.3</td>\n",
       "      <td>3013.0</td>\n",
       "      <td>...</td>\n",
       "      <td>1.0</td>\n",
       "      <td>3.0</td>\n",
       "      <td>593.0</td>\n",
       "      <td>NaN</td>\n",
       "      <td>NaN</td>\n",
       "      <td>Maribyrnong City Council</td>\n",
       "      <td>-37.81053</td>\n",
       "      <td>144.88467</td>\n",
       "      <td>Western Metropolitan</td>\n",
       "      <td>6543.0</td>\n",
       "    </tr>\n",
       "    <tr>\n",
       "      <th>34853</th>\n",
       "      <td>Yarraville</td>\n",
       "      <td>29A Murray St</td>\n",
       "      <td>2</td>\n",
       "      <td>h</td>\n",
       "      <td>888000.0</td>\n",
       "      <td>SP</td>\n",
       "      <td>Sweeney</td>\n",
       "      <td>24/02/2018</td>\n",
       "      <td>6.3</td>\n",
       "      <td>3013.0</td>\n",
       "      <td>...</td>\n",
       "      <td>2.0</td>\n",
       "      <td>1.0</td>\n",
       "      <td>98.0</td>\n",
       "      <td>104.0</td>\n",
       "      <td>2018.0</td>\n",
       "      <td>Maribyrnong City Council</td>\n",
       "      <td>-37.81551</td>\n",
       "      <td>144.88826</td>\n",
       "      <td>Western Metropolitan</td>\n",
       "      <td>6543.0</td>\n",
       "    </tr>\n",
       "    <tr>\n",
       "      <th>34854</th>\n",
       "      <td>Yarraville</td>\n",
       "      <td>147A Severn St</td>\n",
       "      <td>2</td>\n",
       "      <td>t</td>\n",
       "      <td>705000.0</td>\n",
       "      <td>S</td>\n",
       "      <td>Jas</td>\n",
       "      <td>24/02/2018</td>\n",
       "      <td>6.3</td>\n",
       "      <td>3013.0</td>\n",
       "      <td>...</td>\n",
       "      <td>1.0</td>\n",
       "      <td>2.0</td>\n",
       "      <td>220.0</td>\n",
       "      <td>120.0</td>\n",
       "      <td>2000.0</td>\n",
       "      <td>Maribyrnong City Council</td>\n",
       "      <td>-37.82286</td>\n",
       "      <td>144.87856</td>\n",
       "      <td>Western Metropolitan</td>\n",
       "      <td>6543.0</td>\n",
       "    </tr>\n",
       "    <tr>\n",
       "      <th>34855</th>\n",
       "      <td>Yarraville</td>\n",
       "      <td>12/37 Stephen St</td>\n",
       "      <td>3</td>\n",
       "      <td>h</td>\n",
       "      <td>1140000.0</td>\n",
       "      <td>SP</td>\n",
       "      <td>hockingstuart</td>\n",
       "      <td>24/02/2018</td>\n",
       "      <td>6.3</td>\n",
       "      <td>3013.0</td>\n",
       "      <td>...</td>\n",
       "      <td>NaN</td>\n",
       "      <td>NaN</td>\n",
       "      <td>NaN</td>\n",
       "      <td>NaN</td>\n",
       "      <td>NaN</td>\n",
       "      <td>Maribyrnong City Council</td>\n",
       "      <td>NaN</td>\n",
       "      <td>NaN</td>\n",
       "      <td>Western Metropolitan</td>\n",
       "      <td>6543.0</td>\n",
       "    </tr>\n",
       "    <tr>\n",
       "      <th>34856</th>\n",
       "      <td>Yarraville</td>\n",
       "      <td>3 Tarrengower St</td>\n",
       "      <td>2</td>\n",
       "      <td>h</td>\n",
       "      <td>1020000.0</td>\n",
       "      <td>PI</td>\n",
       "      <td>RW</td>\n",
       "      <td>24/02/2018</td>\n",
       "      <td>6.3</td>\n",
       "      <td>3013.0</td>\n",
       "      <td>...</td>\n",
       "      <td>1.0</td>\n",
       "      <td>0.0</td>\n",
       "      <td>250.0</td>\n",
       "      <td>103.0</td>\n",
       "      <td>1930.0</td>\n",
       "      <td>Maribyrnong City Council</td>\n",
       "      <td>-37.81810</td>\n",
       "      <td>144.89351</td>\n",
       "      <td>Western Metropolitan</td>\n",
       "      <td>6543.0</td>\n",
       "    </tr>\n",
       "  </tbody>\n",
       "</table>\n",
       "<p>5 rows × 21 columns</p>\n",
       "</div>"
      ],
      "text/plain": [
       "           Suburb           Address  Rooms Type      Price Method  \\\n",
       "34852  Yarraville       13 Burns St      4    h  1480000.0     PI   \n",
       "34853  Yarraville     29A Murray St      2    h   888000.0     SP   \n",
       "34854  Yarraville    147A Severn St      2    t   705000.0      S   \n",
       "34855  Yarraville  12/37 Stephen St      3    h  1140000.0     SP   \n",
       "34856  Yarraville  3 Tarrengower St      2    h  1020000.0     PI   \n",
       "\n",
       "             SellerG        Date  Distance  Postcode  ...  Bathroom  Car  \\\n",
       "34852            Jas  24/02/2018       6.3    3013.0  ...       1.0  3.0   \n",
       "34853        Sweeney  24/02/2018       6.3    3013.0  ...       2.0  1.0   \n",
       "34854            Jas  24/02/2018       6.3    3013.0  ...       1.0  2.0   \n",
       "34855  hockingstuart  24/02/2018       6.3    3013.0  ...       NaN  NaN   \n",
       "34856             RW  24/02/2018       6.3    3013.0  ...       1.0  0.0   \n",
       "\n",
       "       Landsize  BuildingArea  YearBuilt               CouncilArea Lattitude  \\\n",
       "34852     593.0           NaN        NaN  Maribyrnong City Council -37.81053   \n",
       "34853      98.0         104.0     2018.0  Maribyrnong City Council -37.81551   \n",
       "34854     220.0         120.0     2000.0  Maribyrnong City Council -37.82286   \n",
       "34855       NaN           NaN        NaN  Maribyrnong City Council       NaN   \n",
       "34856     250.0         103.0     1930.0  Maribyrnong City Council -37.81810   \n",
       "\n",
       "       Longtitude            Regionname Propertycount  \n",
       "34852   144.88467  Western Metropolitan        6543.0  \n",
       "34853   144.88826  Western Metropolitan        6543.0  \n",
       "34854   144.87856  Western Metropolitan        6543.0  \n",
       "34855         NaN  Western Metropolitan        6543.0  \n",
       "34856   144.89351  Western Metropolitan        6543.0  \n",
       "\n",
       "[5 rows x 21 columns]"
      ]
     },
     "execution_count": 4,
     "metadata": {},
     "output_type": "execute_result"
    }
   ],
   "source": [
    "df.tail()"
   ]
  },
  {
   "cell_type": "code",
   "execution_count": 5,
   "id": "cb7f125c-e6b3-4c46-b145-7e8b459ed4ac",
   "metadata": {},
   "outputs": [
    {
     "data": {
      "text/html": [
       "<div>\n",
       "<style scoped>\n",
       "    .dataframe tbody tr th:only-of-type {\n",
       "        vertical-align: middle;\n",
       "    }\n",
       "\n",
       "    .dataframe tbody tr th {\n",
       "        vertical-align: top;\n",
       "    }\n",
       "\n",
       "    .dataframe thead th {\n",
       "        text-align: right;\n",
       "    }\n",
       "</style>\n",
       "<table border=\"1\" class=\"dataframe\">\n",
       "  <thead>\n",
       "    <tr style=\"text-align: right;\">\n",
       "      <th></th>\n",
       "      <th>Suburb</th>\n",
       "      <th>Address</th>\n",
       "      <th>Rooms</th>\n",
       "      <th>Type</th>\n",
       "      <th>Price</th>\n",
       "      <th>Method</th>\n",
       "      <th>SellerG</th>\n",
       "      <th>Date</th>\n",
       "      <th>Distance</th>\n",
       "      <th>Postcode</th>\n",
       "      <th>...</th>\n",
       "      <th>Bathroom</th>\n",
       "      <th>Car</th>\n",
       "      <th>Landsize</th>\n",
       "      <th>BuildingArea</th>\n",
       "      <th>YearBuilt</th>\n",
       "      <th>CouncilArea</th>\n",
       "      <th>Lattitude</th>\n",
       "      <th>Longtitude</th>\n",
       "      <th>Regionname</th>\n",
       "      <th>Propertycount</th>\n",
       "    </tr>\n",
       "  </thead>\n",
       "  <tbody>\n",
       "    <tr>\n",
       "      <th>27191</th>\n",
       "      <td>Mount Waverley</td>\n",
       "      <td>13 Malcolm Ct</td>\n",
       "      <td>3</td>\n",
       "      <td>h</td>\n",
       "      <td>1400000.0</td>\n",
       "      <td>SP</td>\n",
       "      <td>Harcourts</td>\n",
       "      <td>11/11/2017</td>\n",
       "      <td>14.2</td>\n",
       "      <td>3149.0</td>\n",
       "      <td>...</td>\n",
       "      <td>1.0</td>\n",
       "      <td>1.0</td>\n",
       "      <td>NaN</td>\n",
       "      <td>NaN</td>\n",
       "      <td>NaN</td>\n",
       "      <td>Monash City Council</td>\n",
       "      <td>-37.87630</td>\n",
       "      <td>145.11220</td>\n",
       "      <td>Eastern Metropolitan</td>\n",
       "      <td>13366.0</td>\n",
       "    </tr>\n",
       "    <tr>\n",
       "      <th>14404</th>\n",
       "      <td>Glenroy</td>\n",
       "      <td>2/15 Ogden St</td>\n",
       "      <td>3</td>\n",
       "      <td>t</td>\n",
       "      <td>525000.0</td>\n",
       "      <td>S</td>\n",
       "      <td>Jellis</td>\n",
       "      <td>1/07/2017</td>\n",
       "      <td>11.2</td>\n",
       "      <td>3046.0</td>\n",
       "      <td>...</td>\n",
       "      <td>1.0</td>\n",
       "      <td>1.0</td>\n",
       "      <td>194.0</td>\n",
       "      <td>133.0</td>\n",
       "      <td>2011.0</td>\n",
       "      <td>Moreland City Council</td>\n",
       "      <td>-37.70168</td>\n",
       "      <td>144.94862</td>\n",
       "      <td>Northern Metropolitan</td>\n",
       "      <td>8870.0</td>\n",
       "    </tr>\n",
       "    <tr>\n",
       "      <th>14233</th>\n",
       "      <td>Altona North</td>\n",
       "      <td>30 Marigold Av</td>\n",
       "      <td>3</td>\n",
       "      <td>h</td>\n",
       "      <td>NaN</td>\n",
       "      <td>PN</td>\n",
       "      <td>Gunn&amp;Co</td>\n",
       "      <td>1/07/2017</td>\n",
       "      <td>9.4</td>\n",
       "      <td>3025.0</td>\n",
       "      <td>...</td>\n",
       "      <td>NaN</td>\n",
       "      <td>NaN</td>\n",
       "      <td>NaN</td>\n",
       "      <td>NaN</td>\n",
       "      <td>NaN</td>\n",
       "      <td>Hobsons Bay City Council</td>\n",
       "      <td>NaN</td>\n",
       "      <td>NaN</td>\n",
       "      <td>Western Metropolitan</td>\n",
       "      <td>5132.0</td>\n",
       "    </tr>\n",
       "    <tr>\n",
       "      <th>11984</th>\n",
       "      <td>Cremorne</td>\n",
       "      <td>56 Wellington St</td>\n",
       "      <td>3</td>\n",
       "      <td>h</td>\n",
       "      <td>1900000.0</td>\n",
       "      <td>VB</td>\n",
       "      <td>Jellis</td>\n",
       "      <td>18/06/2016</td>\n",
       "      <td>2.5</td>\n",
       "      <td>3121.0</td>\n",
       "      <td>...</td>\n",
       "      <td>2.0</td>\n",
       "      <td>2.0</td>\n",
       "      <td>263.0</td>\n",
       "      <td>166.0</td>\n",
       "      <td>2016.0</td>\n",
       "      <td>Yarra City Council</td>\n",
       "      <td>-37.82660</td>\n",
       "      <td>144.98940</td>\n",
       "      <td>Northern Metropolitan</td>\n",
       "      <td>1123.0</td>\n",
       "    </tr>\n",
       "    <tr>\n",
       "      <th>30916</th>\n",
       "      <td>Wollert</td>\n",
       "      <td>1 Hotspur Dr</td>\n",
       "      <td>4</td>\n",
       "      <td>h</td>\n",
       "      <td>NaN</td>\n",
       "      <td>SP</td>\n",
       "      <td>Love</td>\n",
       "      <td>9/12/2017</td>\n",
       "      <td>25.5</td>\n",
       "      <td>3750.0</td>\n",
       "      <td>...</td>\n",
       "      <td>2.0</td>\n",
       "      <td>2.0</td>\n",
       "      <td>445.0</td>\n",
       "      <td>200.0</td>\n",
       "      <td>2012.0</td>\n",
       "      <td>Whittlesea City Council</td>\n",
       "      <td>-37.61831</td>\n",
       "      <td>145.02372</td>\n",
       "      <td>Northern Metropolitan</td>\n",
       "      <td>2940.0</td>\n",
       "    </tr>\n",
       "  </tbody>\n",
       "</table>\n",
       "<p>5 rows × 21 columns</p>\n",
       "</div>"
      ],
      "text/plain": [
       "               Suburb           Address  Rooms Type      Price Method  \\\n",
       "27191  Mount Waverley     13 Malcolm Ct      3    h  1400000.0     SP   \n",
       "14404         Glenroy     2/15 Ogden St      3    t   525000.0      S   \n",
       "14233    Altona North    30 Marigold Av      3    h        NaN     PN   \n",
       "11984        Cremorne  56 Wellington St      3    h  1900000.0     VB   \n",
       "30916         Wollert      1 Hotspur Dr      4    h        NaN     SP   \n",
       "\n",
       "         SellerG        Date  Distance  Postcode  ...  Bathroom  Car  \\\n",
       "27191  Harcourts  11/11/2017      14.2    3149.0  ...       1.0  1.0   \n",
       "14404     Jellis   1/07/2017      11.2    3046.0  ...       1.0  1.0   \n",
       "14233    Gunn&Co   1/07/2017       9.4    3025.0  ...       NaN  NaN   \n",
       "11984     Jellis  18/06/2016       2.5    3121.0  ...       2.0  2.0   \n",
       "30916       Love   9/12/2017      25.5    3750.0  ...       2.0  2.0   \n",
       "\n",
       "       Landsize  BuildingArea  YearBuilt               CouncilArea Lattitude  \\\n",
       "27191       NaN           NaN        NaN       Monash City Council -37.87630   \n",
       "14404     194.0         133.0     2011.0     Moreland City Council -37.70168   \n",
       "14233       NaN           NaN        NaN  Hobsons Bay City Council       NaN   \n",
       "11984     263.0         166.0     2016.0        Yarra City Council -37.82660   \n",
       "30916     445.0         200.0     2012.0   Whittlesea City Council -37.61831   \n",
       "\n",
       "       Longtitude             Regionname Propertycount  \n",
       "27191   145.11220   Eastern Metropolitan       13366.0  \n",
       "14404   144.94862  Northern Metropolitan        8870.0  \n",
       "14233         NaN   Western Metropolitan        5132.0  \n",
       "11984   144.98940  Northern Metropolitan        1123.0  \n",
       "30916   145.02372  Northern Metropolitan        2940.0  \n",
       "\n",
       "[5 rows x 21 columns]"
      ]
     },
     "execution_count": 5,
     "metadata": {},
     "output_type": "execute_result"
    }
   ],
   "source": [
    "df.sample(5)"
   ]
  },
  {
   "cell_type": "code",
   "execution_count": 6,
   "id": "2ef39e46-293a-46a1-a73b-e002b862127a",
   "metadata": {},
   "outputs": [
    {
     "name": "stdout",
     "output_type": "stream",
     "text": [
      "<class 'pandas.core.frame.DataFrame'>\n",
      "RangeIndex: 34857 entries, 0 to 34856\n",
      "Data columns (total 21 columns):\n",
      " #   Column         Non-Null Count  Dtype  \n",
      "---  ------         --------------  -----  \n",
      " 0   Suburb         34857 non-null  object \n",
      " 1   Address        34857 non-null  object \n",
      " 2   Rooms          34857 non-null  int64  \n",
      " 3   Type           34857 non-null  object \n",
      " 4   Price          27247 non-null  float64\n",
      " 5   Method         34857 non-null  object \n",
      " 6   SellerG        34857 non-null  object \n",
      " 7   Date           34857 non-null  object \n",
      " 8   Distance       34856 non-null  float64\n",
      " 9   Postcode       34856 non-null  float64\n",
      " 10  Bedroom2       26640 non-null  float64\n",
      " 11  Bathroom       26631 non-null  float64\n",
      " 12  Car            26129 non-null  float64\n",
      " 13  Landsize       23047 non-null  float64\n",
      " 14  BuildingArea   13742 non-null  float64\n",
      " 15  YearBuilt      15551 non-null  float64\n",
      " 16  CouncilArea    34854 non-null  object \n",
      " 17  Lattitude      26881 non-null  float64\n",
      " 18  Longtitude     26881 non-null  float64\n",
      " 19  Regionname     34854 non-null  object \n",
      " 20  Propertycount  34854 non-null  float64\n",
      "dtypes: float64(12), int64(1), object(8)\n",
      "memory usage: 5.6+ MB\n"
     ]
    }
   ],
   "source": [
    "df.info()"
   ]
  },
  {
   "cell_type": "markdown",
   "id": "8c6baf29-c6c9-4ba5-b385-48dc4b38f07b",
   "metadata": {},
   "source": [
    "> cek data info"
   ]
  },
  {
   "cell_type": "code",
   "execution_count": 7,
   "id": "024b90c7-3740-4194-9580-313431123b30",
   "metadata": {},
   "outputs": [
    {
     "data": {
      "text/plain": [
       "Suburb               0\n",
       "Address              0\n",
       "Rooms                0\n",
       "Type                 0\n",
       "Price             7610\n",
       "Method               0\n",
       "SellerG              0\n",
       "Date                 0\n",
       "Distance             1\n",
       "Postcode             1\n",
       "Bedroom2          8217\n",
       "Bathroom          8226\n",
       "Car               8728\n",
       "Landsize         11810\n",
       "BuildingArea     21115\n",
       "YearBuilt        19306\n",
       "CouncilArea          3\n",
       "Lattitude         7976\n",
       "Longtitude        7976\n",
       "Regionname           3\n",
       "Propertycount        3\n",
       "dtype: int64"
      ]
     },
     "execution_count": 7,
     "metadata": {},
     "output_type": "execute_result"
    }
   ],
   "source": [
    "# cek null values\n",
    "df.isna().sum()"
   ]
  },
  {
   "cell_type": "markdown",
   "id": "44d4b2e2-5638-46cc-ad7a-dfb4800673c6",
   "metadata": {},
   "source": [
    "> cek null values, ada 14 kolom yang berisi null dari total 21 kolom"
   ]
  },
  {
   "cell_type": "code",
   "execution_count": 8,
   "id": "e908eda9-67a3-4b43-a09c-2e77bac41cb1",
   "metadata": {},
   "outputs": [
    {
     "data": {
      "text/html": [
       "<div>\n",
       "<style scoped>\n",
       "    .dataframe tbody tr th:only-of-type {\n",
       "        vertical-align: middle;\n",
       "    }\n",
       "\n",
       "    .dataframe tbody tr th {\n",
       "        vertical-align: top;\n",
       "    }\n",
       "\n",
       "    .dataframe thead th {\n",
       "        text-align: right;\n",
       "    }\n",
       "</style>\n",
       "<table border=\"1\" class=\"dataframe\">\n",
       "  <thead>\n",
       "    <tr style=\"text-align: right;\">\n",
       "      <th></th>\n",
       "      <th>count</th>\n",
       "      <th>mean</th>\n",
       "      <th>std</th>\n",
       "      <th>min</th>\n",
       "      <th>25%</th>\n",
       "      <th>50%</th>\n",
       "      <th>75%</th>\n",
       "      <th>max</th>\n",
       "    </tr>\n",
       "  </thead>\n",
       "  <tbody>\n",
       "    <tr>\n",
       "      <th>Rooms</th>\n",
       "      <td>34857.0</td>\n",
       "      <td>3.031012e+00</td>\n",
       "      <td>0.969933</td>\n",
       "      <td>1.00000</td>\n",
       "      <td>2.00000</td>\n",
       "      <td>3.0000</td>\n",
       "      <td>4.000000e+00</td>\n",
       "      <td>1.600000e+01</td>\n",
       "    </tr>\n",
       "    <tr>\n",
       "      <th>Price</th>\n",
       "      <td>27247.0</td>\n",
       "      <td>1.050173e+06</td>\n",
       "      <td>641467.130105</td>\n",
       "      <td>85000.00000</td>\n",
       "      <td>635000.00000</td>\n",
       "      <td>870000.0000</td>\n",
       "      <td>1.295000e+06</td>\n",
       "      <td>1.120000e+07</td>\n",
       "    </tr>\n",
       "    <tr>\n",
       "      <th>Distance</th>\n",
       "      <td>34856.0</td>\n",
       "      <td>1.118493e+01</td>\n",
       "      <td>6.788892</td>\n",
       "      <td>0.00000</td>\n",
       "      <td>6.40000</td>\n",
       "      <td>10.3000</td>\n",
       "      <td>1.400000e+01</td>\n",
       "      <td>4.810000e+01</td>\n",
       "    </tr>\n",
       "    <tr>\n",
       "      <th>Postcode</th>\n",
       "      <td>34856.0</td>\n",
       "      <td>3.116063e+03</td>\n",
       "      <td>109.023903</td>\n",
       "      <td>3000.00000</td>\n",
       "      <td>3051.00000</td>\n",
       "      <td>3103.0000</td>\n",
       "      <td>3.156000e+03</td>\n",
       "      <td>3.978000e+03</td>\n",
       "    </tr>\n",
       "    <tr>\n",
       "      <th>Bedroom2</th>\n",
       "      <td>26640.0</td>\n",
       "      <td>3.084647e+00</td>\n",
       "      <td>0.980690</td>\n",
       "      <td>0.00000</td>\n",
       "      <td>2.00000</td>\n",
       "      <td>3.0000</td>\n",
       "      <td>4.000000e+00</td>\n",
       "      <td>3.000000e+01</td>\n",
       "    </tr>\n",
       "    <tr>\n",
       "      <th>Bathroom</th>\n",
       "      <td>26631.0</td>\n",
       "      <td>1.624798e+00</td>\n",
       "      <td>0.724212</td>\n",
       "      <td>0.00000</td>\n",
       "      <td>1.00000</td>\n",
       "      <td>2.0000</td>\n",
       "      <td>2.000000e+00</td>\n",
       "      <td>1.200000e+01</td>\n",
       "    </tr>\n",
       "    <tr>\n",
       "      <th>Car</th>\n",
       "      <td>26129.0</td>\n",
       "      <td>1.728845e+00</td>\n",
       "      <td>1.010771</td>\n",
       "      <td>0.00000</td>\n",
       "      <td>1.00000</td>\n",
       "      <td>2.0000</td>\n",
       "      <td>2.000000e+00</td>\n",
       "      <td>2.600000e+01</td>\n",
       "    </tr>\n",
       "    <tr>\n",
       "      <th>Landsize</th>\n",
       "      <td>23047.0</td>\n",
       "      <td>5.935990e+02</td>\n",
       "      <td>3398.841946</td>\n",
       "      <td>0.00000</td>\n",
       "      <td>224.00000</td>\n",
       "      <td>521.0000</td>\n",
       "      <td>6.700000e+02</td>\n",
       "      <td>4.330140e+05</td>\n",
       "    </tr>\n",
       "    <tr>\n",
       "      <th>BuildingArea</th>\n",
       "      <td>13742.0</td>\n",
       "      <td>1.602564e+02</td>\n",
       "      <td>401.267060</td>\n",
       "      <td>0.00000</td>\n",
       "      <td>102.00000</td>\n",
       "      <td>136.0000</td>\n",
       "      <td>1.880000e+02</td>\n",
       "      <td>4.451500e+04</td>\n",
       "    </tr>\n",
       "    <tr>\n",
       "      <th>YearBuilt</th>\n",
       "      <td>15551.0</td>\n",
       "      <td>1.965290e+03</td>\n",
       "      <td>37.328178</td>\n",
       "      <td>1196.00000</td>\n",
       "      <td>1940.00000</td>\n",
       "      <td>1970.0000</td>\n",
       "      <td>2.000000e+03</td>\n",
       "      <td>2.106000e+03</td>\n",
       "    </tr>\n",
       "    <tr>\n",
       "      <th>Lattitude</th>\n",
       "      <td>26881.0</td>\n",
       "      <td>-3.781063e+01</td>\n",
       "      <td>0.090279</td>\n",
       "      <td>-38.19043</td>\n",
       "      <td>-37.86295</td>\n",
       "      <td>-37.8076</td>\n",
       "      <td>-3.775410e+01</td>\n",
       "      <td>-3.739020e+01</td>\n",
       "    </tr>\n",
       "    <tr>\n",
       "      <th>Longtitude</th>\n",
       "      <td>26881.0</td>\n",
       "      <td>1.450019e+02</td>\n",
       "      <td>0.120169</td>\n",
       "      <td>144.42379</td>\n",
       "      <td>144.93350</td>\n",
       "      <td>145.0078</td>\n",
       "      <td>1.450719e+02</td>\n",
       "      <td>1.455264e+02</td>\n",
       "    </tr>\n",
       "    <tr>\n",
       "      <th>Propertycount</th>\n",
       "      <td>34854.0</td>\n",
       "      <td>7.572888e+03</td>\n",
       "      <td>4428.090313</td>\n",
       "      <td>83.00000</td>\n",
       "      <td>4385.00000</td>\n",
       "      <td>6763.0000</td>\n",
       "      <td>1.041200e+04</td>\n",
       "      <td>2.165000e+04</td>\n",
       "    </tr>\n",
       "  </tbody>\n",
       "</table>\n",
       "</div>"
      ],
      "text/plain": [
       "                 count          mean            std          min  \\\n",
       "Rooms          34857.0  3.031012e+00       0.969933      1.00000   \n",
       "Price          27247.0  1.050173e+06  641467.130105  85000.00000   \n",
       "Distance       34856.0  1.118493e+01       6.788892      0.00000   \n",
       "Postcode       34856.0  3.116063e+03     109.023903   3000.00000   \n",
       "Bedroom2       26640.0  3.084647e+00       0.980690      0.00000   \n",
       "Bathroom       26631.0  1.624798e+00       0.724212      0.00000   \n",
       "Car            26129.0  1.728845e+00       1.010771      0.00000   \n",
       "Landsize       23047.0  5.935990e+02    3398.841946      0.00000   \n",
       "BuildingArea   13742.0  1.602564e+02     401.267060      0.00000   \n",
       "YearBuilt      15551.0  1.965290e+03      37.328178   1196.00000   \n",
       "Lattitude      26881.0 -3.781063e+01       0.090279    -38.19043   \n",
       "Longtitude     26881.0  1.450019e+02       0.120169    144.42379   \n",
       "Propertycount  34854.0  7.572888e+03    4428.090313     83.00000   \n",
       "\n",
       "                        25%          50%           75%           max  \n",
       "Rooms               2.00000       3.0000  4.000000e+00  1.600000e+01  \n",
       "Price          635000.00000  870000.0000  1.295000e+06  1.120000e+07  \n",
       "Distance            6.40000      10.3000  1.400000e+01  4.810000e+01  \n",
       "Postcode         3051.00000    3103.0000  3.156000e+03  3.978000e+03  \n",
       "Bedroom2            2.00000       3.0000  4.000000e+00  3.000000e+01  \n",
       "Bathroom            1.00000       2.0000  2.000000e+00  1.200000e+01  \n",
       "Car                 1.00000       2.0000  2.000000e+00  2.600000e+01  \n",
       "Landsize          224.00000     521.0000  6.700000e+02  4.330140e+05  \n",
       "BuildingArea      102.00000     136.0000  1.880000e+02  4.451500e+04  \n",
       "YearBuilt        1940.00000    1970.0000  2.000000e+03  2.106000e+03  \n",
       "Lattitude         -37.86295     -37.8076 -3.775410e+01 -3.739020e+01  \n",
       "Longtitude        144.93350     145.0078  1.450719e+02  1.455264e+02  \n",
       "Propertycount    4385.00000    6763.0000  1.041200e+04  2.165000e+04  "
      ]
     },
     "execution_count": 8,
     "metadata": {},
     "output_type": "execute_result"
    }
   ],
   "source": [
    "df.describe().T"
   ]
  },
  {
   "cell_type": "markdown",
   "id": "010347bd-a385-492e-9e53-8784cab946b4",
   "metadata": {},
   "source": [
    "> lihat measure of central tendency, quantile, min dan max pada setiap features."
   ]
  },
  {
   "cell_type": "code",
   "execution_count": 9,
   "id": "e131e806-e067-4db4-8307-ce1cf92036c2",
   "metadata": {},
   "outputs": [
    {
     "data": {
      "text/html": [
       "<div>\n",
       "<style scoped>\n",
       "    .dataframe tbody tr th:only-of-type {\n",
       "        vertical-align: middle;\n",
       "    }\n",
       "\n",
       "    .dataframe tbody tr th {\n",
       "        vertical-align: top;\n",
       "    }\n",
       "\n",
       "    .dataframe thead th {\n",
       "        text-align: right;\n",
       "    }\n",
       "</style>\n",
       "<table border=\"1\" class=\"dataframe\">\n",
       "  <thead>\n",
       "    <tr style=\"text-align: right;\">\n",
       "      <th></th>\n",
       "      <th>count</th>\n",
       "      <th>unique</th>\n",
       "      <th>top</th>\n",
       "      <th>freq</th>\n",
       "    </tr>\n",
       "  </thead>\n",
       "  <tbody>\n",
       "    <tr>\n",
       "      <th>Suburb</th>\n",
       "      <td>34857</td>\n",
       "      <td>351</td>\n",
       "      <td>Reservoir</td>\n",
       "      <td>844</td>\n",
       "    </tr>\n",
       "    <tr>\n",
       "      <th>Address</th>\n",
       "      <td>34857</td>\n",
       "      <td>34009</td>\n",
       "      <td>5 Charles St</td>\n",
       "      <td>6</td>\n",
       "    </tr>\n",
       "    <tr>\n",
       "      <th>Type</th>\n",
       "      <td>34857</td>\n",
       "      <td>3</td>\n",
       "      <td>h</td>\n",
       "      <td>23980</td>\n",
       "    </tr>\n",
       "    <tr>\n",
       "      <th>Method</th>\n",
       "      <td>34857</td>\n",
       "      <td>9</td>\n",
       "      <td>S</td>\n",
       "      <td>19744</td>\n",
       "    </tr>\n",
       "    <tr>\n",
       "      <th>SellerG</th>\n",
       "      <td>34857</td>\n",
       "      <td>388</td>\n",
       "      <td>Jellis</td>\n",
       "      <td>3359</td>\n",
       "    </tr>\n",
       "    <tr>\n",
       "      <th>Date</th>\n",
       "      <td>34857</td>\n",
       "      <td>78</td>\n",
       "      <td>28/10/2017</td>\n",
       "      <td>1119</td>\n",
       "    </tr>\n",
       "    <tr>\n",
       "      <th>CouncilArea</th>\n",
       "      <td>34854</td>\n",
       "      <td>33</td>\n",
       "      <td>Boroondara City Council</td>\n",
       "      <td>3675</td>\n",
       "    </tr>\n",
       "    <tr>\n",
       "      <th>Regionname</th>\n",
       "      <td>34854</td>\n",
       "      <td>8</td>\n",
       "      <td>Southern Metropolitan</td>\n",
       "      <td>11836</td>\n",
       "    </tr>\n",
       "  </tbody>\n",
       "</table>\n",
       "</div>"
      ],
      "text/plain": [
       "             count unique                      top   freq\n",
       "Suburb       34857    351                Reservoir    844\n",
       "Address      34857  34009             5 Charles St      6\n",
       "Type         34857      3                        h  23980\n",
       "Method       34857      9                        S  19744\n",
       "SellerG      34857    388                   Jellis   3359\n",
       "Date         34857     78               28/10/2017   1119\n",
       "CouncilArea  34854     33  Boroondara City Council   3675\n",
       "Regionname   34854      8    Southern Metropolitan  11836"
      ]
     },
     "execution_count": 9,
     "metadata": {},
     "output_type": "execute_result"
    }
   ],
   "source": [
    "df.describe(include = 'object').T"
   ]
  },
  {
   "cell_type": "markdown",
   "id": "43c57c42-75df-4c90-a5fe-c4dea4f719c6",
   "metadata": {},
   "source": [
    "> data diatas adalah data selain numeric "
   ]
  },
  {
   "cell_type": "markdown",
   "id": "6cccec0b-6537-4a47-b78e-5ff9dcffca0e",
   "metadata": {},
   "source": [
    "## PREPROCESSING "
   ]
  },
  {
   "cell_type": "markdown",
   "id": "24015dfb-2507-4830-87db-607ad88c8ba9",
   "metadata": {},
   "source": [
    "Ubah beberapa tipe data yang tidak sesuai."
   ]
  },
  {
   "cell_type": "code",
   "execution_count": 10,
   "id": "42d4022f-6a5a-48e5-afdf-4922f13c9bd1",
   "metadata": {},
   "outputs": [],
   "source": [
    "# ubah tipe data \n",
    "df[\"Date\"] = pd.to_datetime(df['Date'])"
   ]
  },
  {
   "cell_type": "code",
   "execution_count": 11,
   "id": "259311b4-6b65-493d-accc-162b00725215",
   "metadata": {},
   "outputs": [
    {
     "name": "stdout",
     "output_type": "stream",
     "text": [
      "<class 'pandas.core.frame.DataFrame'>\n",
      "RangeIndex: 34857 entries, 0 to 34856\n",
      "Data columns (total 21 columns):\n",
      " #   Column         Non-Null Count  Dtype         \n",
      "---  ------         --------------  -----         \n",
      " 0   Suburb         34857 non-null  object        \n",
      " 1   Address        34857 non-null  object        \n",
      " 2   Rooms          34857 non-null  int64         \n",
      " 3   Type           34857 non-null  object        \n",
      " 4   Price          27247 non-null  float64       \n",
      " 5   Method         34857 non-null  object        \n",
      " 6   SellerG        34857 non-null  object        \n",
      " 7   Date           34857 non-null  datetime64[ns]\n",
      " 8   Distance       34856 non-null  float64       \n",
      " 9   Postcode       34856 non-null  float64       \n",
      " 10  Bedroom2       26640 non-null  float64       \n",
      " 11  Bathroom       26631 non-null  float64       \n",
      " 12  Car            26129 non-null  float64       \n",
      " 13  Landsize       23047 non-null  float64       \n",
      " 14  BuildingArea   13742 non-null  float64       \n",
      " 15  YearBuilt      15551 non-null  float64       \n",
      " 16  CouncilArea    34854 non-null  object        \n",
      " 17  Lattitude      26881 non-null  float64       \n",
      " 18  Longtitude     26881 non-null  float64       \n",
      " 19  Regionname     34854 non-null  object        \n",
      " 20  Propertycount  34854 non-null  float64       \n",
      "dtypes: datetime64[ns](1), float64(12), int64(1), object(7)\n",
      "memory usage: 5.6+ MB\n"
     ]
    }
   ],
   "source": [
    "# cek tipe data setelah di ubah\n",
    "df.info()"
   ]
  },
  {
   "cell_type": "markdown",
   "id": "513bb139-93ba-4aaa-ae0b-299b614a7ef5",
   "metadata": {},
   "source": [
    "> Drop kolom yang tidak di perlukan "
   ]
  },
  {
   "cell_type": "code",
   "execution_count": 12,
   "id": "991b11cd-b489-4550-a2a2-0b0c2faee794",
   "metadata": {},
   "outputs": [],
   "source": [
    "#buat variable baru sebelum di drop\n",
    "df1 = df.copy()"
   ]
  },
  {
   "cell_type": "code",
   "execution_count": 13,
   "id": "592cd079-3316-4fa8-abe9-6b5eea1fd2f9",
   "metadata": {},
   "outputs": [],
   "source": [
    "df1 = df1.drop(['Bedroom2', 'Bathroom', 'Car', 'Landsize', 'BuildingArea', 'YearBuilt', 'Lattitude', 'Longtitude'], axis=1)"
   ]
  },
  {
   "cell_type": "code",
   "execution_count": 14,
   "id": "c6a5f5e4-2f58-4e8e-b099-5ec03cce5ad6",
   "metadata": {},
   "outputs": [
    {
     "data": {
      "text/html": [
       "<div>\n",
       "<style scoped>\n",
       "    .dataframe tbody tr th:only-of-type {\n",
       "        vertical-align: middle;\n",
       "    }\n",
       "\n",
       "    .dataframe tbody tr th {\n",
       "        vertical-align: top;\n",
       "    }\n",
       "\n",
       "    .dataframe thead th {\n",
       "        text-align: right;\n",
       "    }\n",
       "</style>\n",
       "<table border=\"1\" class=\"dataframe\">\n",
       "  <thead>\n",
       "    <tr style=\"text-align: right;\">\n",
       "      <th></th>\n",
       "      <th>Suburb</th>\n",
       "      <th>Address</th>\n",
       "      <th>Rooms</th>\n",
       "      <th>Type</th>\n",
       "      <th>Price</th>\n",
       "      <th>Method</th>\n",
       "      <th>SellerG</th>\n",
       "      <th>Date</th>\n",
       "      <th>Distance</th>\n",
       "      <th>Postcode</th>\n",
       "      <th>CouncilArea</th>\n",
       "      <th>Regionname</th>\n",
       "      <th>Propertycount</th>\n",
       "    </tr>\n",
       "  </thead>\n",
       "  <tbody>\n",
       "    <tr>\n",
       "      <th>11334</th>\n",
       "      <td>Hawthorn East</td>\n",
       "      <td>16 Stewart St</td>\n",
       "      <td>4</td>\n",
       "      <td>h</td>\n",
       "      <td>NaN</td>\n",
       "      <td>SN</td>\n",
       "      <td>Kay</td>\n",
       "      <td>2017-04-03</td>\n",
       "      <td>7.5</td>\n",
       "      <td>3123.0</td>\n",
       "      <td>Boroondara City Council</td>\n",
       "      <td>Southern Metropolitan</td>\n",
       "      <td>6482.0</td>\n",
       "    </tr>\n",
       "    <tr>\n",
       "      <th>2680</th>\n",
       "      <td>Camberwell</td>\n",
       "      <td>34 Fairmont Av</td>\n",
       "      <td>4</td>\n",
       "      <td>h</td>\n",
       "      <td>NaN</td>\n",
       "      <td>S</td>\n",
       "      <td>Marshall</td>\n",
       "      <td>2017-11-03</td>\n",
       "      <td>7.8</td>\n",
       "      <td>3124.0</td>\n",
       "      <td>Boroondara City Council</td>\n",
       "      <td>Southern Metropolitan</td>\n",
       "      <td>8920.0</td>\n",
       "    </tr>\n",
       "    <tr>\n",
       "      <th>15032</th>\n",
       "      <td>Hawthorn</td>\n",
       "      <td>14/36 Lisson Gr</td>\n",
       "      <td>1</td>\n",
       "      <td>u</td>\n",
       "      <td>560000.0</td>\n",
       "      <td>S</td>\n",
       "      <td>Kay</td>\n",
       "      <td>2017-03-06</td>\n",
       "      <td>5.3</td>\n",
       "      <td>3122.0</td>\n",
       "      <td>Boroondara City Council</td>\n",
       "      <td>Southern Metropolitan</td>\n",
       "      <td>11308.0</td>\n",
       "    </tr>\n",
       "    <tr>\n",
       "      <th>2104</th>\n",
       "      <td>Brighton East</td>\n",
       "      <td>39 Ferguson St</td>\n",
       "      <td>3</td>\n",
       "      <td>h</td>\n",
       "      <td>1100000.0</td>\n",
       "      <td>S</td>\n",
       "      <td>HAR</td>\n",
       "      <td>2017-02-25</td>\n",
       "      <td>10.7</td>\n",
       "      <td>3187.0</td>\n",
       "      <td>Bayside City Council</td>\n",
       "      <td>Southern Metropolitan</td>\n",
       "      <td>6938.0</td>\n",
       "    </tr>\n",
       "    <tr>\n",
       "      <th>27580</th>\n",
       "      <td>Brooklyn</td>\n",
       "      <td>36 Primula Av</td>\n",
       "      <td>3</td>\n",
       "      <td>h</td>\n",
       "      <td>860000.0</td>\n",
       "      <td>SP</td>\n",
       "      <td>Nelson</td>\n",
       "      <td>2017-11-18</td>\n",
       "      <td>6.4</td>\n",
       "      <td>3012.0</td>\n",
       "      <td>Brimbank City Council</td>\n",
       "      <td>Western Metropolitan</td>\n",
       "      <td>962.0</td>\n",
       "    </tr>\n",
       "  </tbody>\n",
       "</table>\n",
       "</div>"
      ],
      "text/plain": [
       "              Suburb          Address  Rooms Type      Price Method   SellerG  \\\n",
       "11334  Hawthorn East    16 Stewart St      4    h        NaN     SN       Kay   \n",
       "2680      Camberwell   34 Fairmont Av      4    h        NaN      S  Marshall   \n",
       "15032       Hawthorn  14/36 Lisson Gr      1    u   560000.0      S       Kay   \n",
       "2104   Brighton East   39 Ferguson St      3    h  1100000.0      S       HAR   \n",
       "27580       Brooklyn    36 Primula Av      3    h   860000.0     SP    Nelson   \n",
       "\n",
       "            Date  Distance  Postcode              CouncilArea  \\\n",
       "11334 2017-04-03       7.5    3123.0  Boroondara City Council   \n",
       "2680  2017-11-03       7.8    3124.0  Boroondara City Council   \n",
       "15032 2017-03-06       5.3    3122.0  Boroondara City Council   \n",
       "2104  2017-02-25      10.7    3187.0     Bayside City Council   \n",
       "27580 2017-11-18       6.4    3012.0    Brimbank City Council   \n",
       "\n",
       "                  Regionname  Propertycount  \n",
       "11334  Southern Metropolitan         6482.0  \n",
       "2680   Southern Metropolitan         8920.0  \n",
       "15032  Southern Metropolitan        11308.0  \n",
       "2104   Southern Metropolitan         6938.0  \n",
       "27580   Western Metropolitan          962.0  "
      ]
     },
     "execution_count": 14,
     "metadata": {},
     "output_type": "execute_result"
    }
   ],
   "source": [
    "df1.sample(5)"
   ]
  },
  {
   "cell_type": "markdown",
   "id": "3b260954-49c3-453f-b850-1e0c6279b22a",
   "metadata": {},
   "source": [
    "### Handling Null Values"
   ]
  },
  {
   "cell_type": "markdown",
   "id": "f5887c72-1a3e-42d2-b04e-934962d2d8c7",
   "metadata": {},
   "source": [
    "> dibawah ini masih ada beberapa null values yang harus kita handling"
   ]
  },
  {
   "cell_type": "code",
   "execution_count": 15,
   "id": "03007475-df42-4d2a-93a7-d0cb09966b3d",
   "metadata": {},
   "outputs": [
    {
     "data": {
      "text/plain": [
       "Suburb              0\n",
       "Address             0\n",
       "Rooms               0\n",
       "Type                0\n",
       "Price            7610\n",
       "Method              0\n",
       "SellerG             0\n",
       "Date                0\n",
       "Distance            1\n",
       "Postcode            1\n",
       "CouncilArea         3\n",
       "Regionname          3\n",
       "Propertycount       3\n",
       "dtype: int64"
      ]
     },
     "execution_count": 15,
     "metadata": {},
     "output_type": "execute_result"
    }
   ],
   "source": [
    "df1.isna().sum()"
   ]
  },
  {
   "cell_type": "markdown",
   "id": "557889df-9252-4c04-82e1-c9894258a574",
   "metadata": {},
   "source": [
    "> Distance,Postcode,CouncilArea,Regionname dan propertycount di isi dengan metode `ffill()` yaitu mengisi dengan nilai pada baris sebelumnya (atas)"
   ]
  },
  {
   "cell_type": "code",
   "execution_count": 16,
   "id": "73d4b34f-1dc7-48a9-900e-3dcace6e7d05",
   "metadata": {},
   "outputs": [],
   "source": [
    "df1[\"Distance\"] = df1[\"Distance\"].ffill()\n",
    "df1[\"Postcode\"] = df1[\"Postcode\"].ffill()\n",
    "df1[\"CouncilArea\"] = df1[\"CouncilArea\"].ffill()\n",
    "df1[\"Regionname\"] = df1[\"Regionname\"].ffill()\n",
    "df1[\"Propertycount\"] = df1[\"Propertycount\"].ffill()"
   ]
  },
  {
   "cell_type": "code",
   "execution_count": 17,
   "id": "6f1e1047-a9ea-4921-8bd9-6b73215f6b92",
   "metadata": {},
   "outputs": [
    {
     "data": {
      "text/plain": [
       "Suburb              0\n",
       "Address             0\n",
       "Rooms               0\n",
       "Type                0\n",
       "Price            7610\n",
       "Method              0\n",
       "SellerG             0\n",
       "Date                0\n",
       "Distance            0\n",
       "Postcode            0\n",
       "CouncilArea         0\n",
       "Regionname          0\n",
       "Propertycount       0\n",
       "dtype: int64"
      ]
     },
     "execution_count": 17,
     "metadata": {},
     "output_type": "execute_result"
    }
   ],
   "source": [
    "df1.isna().sum()"
   ]
  },
  {
   "cell_type": "code",
   "execution_count": 18,
   "id": "2307173b-7d7c-415d-b110-d5dd2e5f06a7",
   "metadata": {},
   "outputs": [],
   "source": [
    "# pecah kedalam variable baru\n",
    "df_null = df1[df1[\"Price\"].isna()]\n",
    "df_not_null = df1[df1[\"Price\"].notna()]"
   ]
  },
  {
   "cell_type": "code",
   "execution_count": 19,
   "id": "a8d69d13-5564-485a-929d-bd01c98c7c7c",
   "metadata": {},
   "outputs": [
    {
     "data": {
      "image/png": "[encoded data removed]",
      "text/plain": [
       "<Figure size 432x288 with 1 Axes>"
      ]
     },
     "metadata": {
      "needs_background": "light"
     },
     "output_type": "display_data"
    }
   ],
   "source": [
    "# cek distribusi data\n",
    "sns.distplot(df_not_null[\"Price\"])\n",
    "plt.show()"
   ]
  },
  {
   "cell_type": "code",
   "execution_count": 20,
   "id": "4205f119-f754-4269-a711-b702499cd4bb",
   "metadata": {},
   "outputs": [
    {
     "data": {
      "text/plain": [
       "SkewtestResult(statistic=102.99975472168916, pvalue=0.0)"
      ]
     },
     "execution_count": 20,
     "metadata": {},
     "output_type": "execute_result"
    }
   ],
   "source": [
    "# cek skewness \n",
    "stats.skewtest(df_not_null[\"Price\"])"
   ]
  },
  {
   "cell_type": "code",
   "execution_count": 21,
   "id": "8f3fecaa-f31c-49a4-9b3a-659e9811151e",
   "metadata": {},
   "outputs": [
    {
     "data": {
      "text/plain": [
       "KurtosistestResult(statistic=73.94395155543975, pvalue=0.0)"
      ]
     },
     "execution_count": 21,
     "metadata": {},
     "output_type": "execute_result"
    }
   ],
   "source": [
    "# kurtosis dengan bantuan scipy\n",
    "stats.kurtosistest(df_not_null[\"Price\"])"
   ]
  },
  {
   "cell_type": "markdown",
   "id": "25aaa31d-7a5e-4585-a3ed-e32bb06373fc",
   "metadata": {},
   "source": [
    "> dari plot diatas hasil skewness test nya adalah 102 yang artinya highly skewed, dan hasil kurtosis test nya adalah 73 yang berarti distribusi nya leptokurtic"
   ]
  },
  {
   "cell_type": "code",
   "execution_count": 22,
   "id": "de8afb28-fb65-4d6b-9891-37277abdab31",
   "metadata": {},
   "outputs": [
    {
     "data": {
      "text/html": [
       "<div>\n",
       "<style scoped>\n",
       "    .dataframe tbody tr th:only-of-type {\n",
       "        vertical-align: middle;\n",
       "    }\n",
       "\n",
       "    .dataframe tbody tr th {\n",
       "        vertical-align: top;\n",
       "    }\n",
       "\n",
       "    .dataframe thead th {\n",
       "        text-align: right;\n",
       "    }\n",
       "</style>\n",
       "<table border=\"1\" class=\"dataframe\">\n",
       "  <thead>\n",
       "    <tr style=\"text-align: right;\">\n",
       "      <th></th>\n",
       "      <th>Type</th>\n",
       "      <th>Regionname</th>\n",
       "      <th>Price</th>\n",
       "    </tr>\n",
       "  </thead>\n",
       "  <tbody>\n",
       "    <tr>\n",
       "      <th>0</th>\n",
       "      <td>h</td>\n",
       "      <td>Eastern Metropolitan</td>\n",
       "      <td>1115000.0</td>\n",
       "    </tr>\n",
       "    <tr>\n",
       "      <th>1</th>\n",
       "      <td>h</td>\n",
       "      <td>Eastern Victoria</td>\n",
       "      <td>690000.0</td>\n",
       "    </tr>\n",
       "    <tr>\n",
       "      <th>2</th>\n",
       "      <td>h</td>\n",
       "      <td>Northern Metropolitan</td>\n",
       "      <td>860250.0</td>\n",
       "    </tr>\n",
       "    <tr>\n",
       "      <th>3</th>\n",
       "      <td>h</td>\n",
       "      <td>Northern Victoria</td>\n",
       "      <td>565000.0</td>\n",
       "    </tr>\n",
       "    <tr>\n",
       "      <th>4</th>\n",
       "      <td>h</td>\n",
       "      <td>South-Eastern Metropolitan</td>\n",
       "      <td>870000.0</td>\n",
       "    </tr>\n",
       "    <tr>\n",
       "      <th>5</th>\n",
       "      <td>h</td>\n",
       "      <td>Southern Metropolitan</td>\n",
       "      <td>1660000.0</td>\n",
       "    </tr>\n",
       "    <tr>\n",
       "      <th>6</th>\n",
       "      <td>h</td>\n",
       "      <td>Western Metropolitan</td>\n",
       "      <td>815000.0</td>\n",
       "    </tr>\n",
       "    <tr>\n",
       "      <th>7</th>\n",
       "      <td>h</td>\n",
       "      <td>Western Victoria</td>\n",
       "      <td>412625.0</td>\n",
       "    </tr>\n",
       "    <tr>\n",
       "      <th>8</th>\n",
       "      <td>t</td>\n",
       "      <td>Eastern Metropolitan</td>\n",
       "      <td>885000.0</td>\n",
       "    </tr>\n",
       "    <tr>\n",
       "      <th>9</th>\n",
       "      <td>t</td>\n",
       "      <td>Eastern Victoria</td>\n",
       "      <td>665000.0</td>\n",
       "    </tr>\n",
       "    <tr>\n",
       "      <th>10</th>\n",
       "      <td>t</td>\n",
       "      <td>Northern Metropolitan</td>\n",
       "      <td>685000.0</td>\n",
       "    </tr>\n",
       "    <tr>\n",
       "      <th>11</th>\n",
       "      <td>t</td>\n",
       "      <td>Northern Victoria</td>\n",
       "      <td>648000.0</td>\n",
       "    </tr>\n",
       "    <tr>\n",
       "      <th>12</th>\n",
       "      <td>t</td>\n",
       "      <td>South-Eastern Metropolitan</td>\n",
       "      <td>813000.0</td>\n",
       "    </tr>\n",
       "    <tr>\n",
       "      <th>13</th>\n",
       "      <td>t</td>\n",
       "      <td>Southern Metropolitan</td>\n",
       "      <td>1190000.0</td>\n",
       "    </tr>\n",
       "    <tr>\n",
       "      <th>14</th>\n",
       "      <td>t</td>\n",
       "      <td>Western Metropolitan</td>\n",
       "      <td>713500.0</td>\n",
       "    </tr>\n",
       "    <tr>\n",
       "      <th>15</th>\n",
       "      <td>u</td>\n",
       "      <td>Eastern Metropolitan</td>\n",
       "      <td>669000.0</td>\n",
       "    </tr>\n",
       "    <tr>\n",
       "      <th>16</th>\n",
       "      <td>u</td>\n",
       "      <td>Eastern Victoria</td>\n",
       "      <td>447000.0</td>\n",
       "    </tr>\n",
       "    <tr>\n",
       "      <th>17</th>\n",
       "      <td>u</td>\n",
       "      <td>Northern Metropolitan</td>\n",
       "      <td>512000.0</td>\n",
       "    </tr>\n",
       "    <tr>\n",
       "      <th>18</th>\n",
       "      <td>u</td>\n",
       "      <td>Northern Victoria</td>\n",
       "      <td>530000.0</td>\n",
       "    </tr>\n",
       "    <tr>\n",
       "      <th>19</th>\n",
       "      <td>u</td>\n",
       "      <td>South-Eastern Metropolitan</td>\n",
       "      <td>595000.0</td>\n",
       "    </tr>\n",
       "    <tr>\n",
       "      <th>20</th>\n",
       "      <td>u</td>\n",
       "      <td>Southern Metropolitan</td>\n",
       "      <td>630000.0</td>\n",
       "    </tr>\n",
       "    <tr>\n",
       "      <th>21</th>\n",
       "      <td>u</td>\n",
       "      <td>Western Metropolitan</td>\n",
       "      <td>480000.0</td>\n",
       "    </tr>\n",
       "    <tr>\n",
       "      <th>22</th>\n",
       "      <td>u</td>\n",
       "      <td>Western Victoria</td>\n",
       "      <td>285000.0</td>\n",
       "    </tr>\n",
       "  </tbody>\n",
       "</table>\n",
       "</div>"
      ],
      "text/plain": [
       "   Type                  Regionname      Price\n",
       "0     h        Eastern Metropolitan  1115000.0\n",
       "1     h            Eastern Victoria   690000.0\n",
       "2     h       Northern Metropolitan   860250.0\n",
       "3     h           Northern Victoria   565000.0\n",
       "4     h  South-Eastern Metropolitan   870000.0\n",
       "5     h       Southern Metropolitan  1660000.0\n",
       "6     h        Western Metropolitan   815000.0\n",
       "7     h            Western Victoria   412625.0\n",
       "8     t        Eastern Metropolitan   885000.0\n",
       "9     t            Eastern Victoria   665000.0\n",
       "10    t       Northern Metropolitan   685000.0\n",
       "11    t           Northern Victoria   648000.0\n",
       "12    t  South-Eastern Metropolitan   813000.0\n",
       "13    t       Southern Metropolitan  1190000.0\n",
       "14    t        Western Metropolitan   713500.0\n",
       "15    u        Eastern Metropolitan   669000.0\n",
       "16    u            Eastern Victoria   447000.0\n",
       "17    u       Northern Metropolitan   512000.0\n",
       "18    u           Northern Victoria   530000.0\n",
       "19    u  South-Eastern Metropolitan   595000.0\n",
       "20    u       Southern Metropolitan   630000.0\n",
       "21    u        Western Metropolitan   480000.0\n",
       "22    u            Western Victoria   285000.0"
      ]
     },
     "execution_count": 22,
     "metadata": {},
     "output_type": "execute_result"
    }
   ],
   "source": [
    "# gunakan groupby untuk langsung mengetahui nilai median\n",
    "df_not_null.groupby([\"Type\", \"Regionname\"], as_index=False)[\"Price\"].median()"
   ]
  },
  {
   "cell_type": "code",
   "execution_count": 23,
   "id": "f33b65bf-abf3-4b09-b6c1-3cb9204d6e53",
   "metadata": {},
   "outputs": [],
   "source": [
    "# cara dengan loop\n",
    "# cara dengan loop\n",
    "price = []\n",
    "for typee, Reg in zip(df_null[\"Type\"], df_null[\"Regionname\"]):\n",
    "    if typee == \"h\":\n",
    "        if Reg == \"Eastern Metropolitan\":\n",
    "            price.append(1115000) # append nilai sesuai dengan kriteria\n",
    "        elif Reg == \"Eastern Victoria\":\n",
    "            price.append(690000)\n",
    "        elif Reg == \"Northern Metropolitan\":\n",
    "            price.append(860250)\n",
    "        elif Reg == \"Northern Victoria\":\n",
    "            price.append(565000)\n",
    "        elif Reg == \"South-Eastern Metropolitan\":\n",
    "            price.append(870000)\n",
    "        elif Reg == \"Southern Metropolitan\":\n",
    "            price.append(1660000)\n",
    "        elif Reg == \"Western Metropolitan\":\n",
    "            price.append(815000)\n",
    "        elif Reg == \"Western Victoria\":\n",
    "            price.append(412625)\n",
    "    \n",
    "    elif typee == \"t\":\n",
    "        if Reg == \"Eastern Metropolitan\":\n",
    "            price.append(885000)\n",
    "        elif Reg == \"Eastern Victoria\":\n",
    "            price.append(665000)\n",
    "        elif Reg == \"Northern Metropolitan\":\n",
    "            price.append(685000)\n",
    "        elif Reg == \"Northern Victoria\":\n",
    "            price.append(648000)\n",
    "        elif Reg == \"South-Eastern Metropolitan\":\n",
    "            price.append(813000)\n",
    "        elif Reg == \"Southern Metropolitan\":\n",
    "            price.append(1190000)\n",
    "        elif Reg == \"Western Metropolitan\":\n",
    "            price.append(713500)\n",
    "    else:\n",
    "        if Reg == \"Eastern Metropolitan\":\n",
    "            price.append(669000)\n",
    "        elif Reg == \"Eastern Victoria\":\n",
    "            price.append(447000)\n",
    "        elif Reg == \"Northern Metropolitan\":\n",
    "            price.append(512000)\n",
    "        elif Reg == \"Northern Victoria\":\n",
    "            price.append(530000)\n",
    "        elif Reg == \"South-Eastern Metropolitan\":\n",
    "            price.append(595000)\n",
    "        elif Reg == \"Southern Metropolitan\":\n",
    "            price.append(630000)\n",
    "        elif Reg == \"Western Metropolitan\":\n",
    "            price.append(480000)\n",
    "        elif Reg == \"Western Victoria\":\n",
    "            price.append(285000)\n",
    "        "
   ]
  },
  {
   "cell_type": "code",
   "execution_count": 24,
   "id": "56d88eab-7f31-46fb-9225-750c16d579ce",
   "metadata": {},
   "outputs": [],
   "source": [
    "# masukan lagi hasilnya ke data \n",
    "df_null[\"Price\"] = price"
   ]
  },
  {
   "cell_type": "code",
   "execution_count": 25,
   "id": "17d25d65-57e2-460e-980d-c888f757c697",
   "metadata": {},
   "outputs": [],
   "source": [
    "# kemudian di gabungkan lagi dengan concat\n",
    "df_merged = pd.concat([df_not_null, df_null])"
   ]
  },
  {
   "cell_type": "code",
   "execution_count": 26,
   "id": "85c819c4-a4d6-4146-a88a-529270e5d92f",
   "metadata": {},
   "outputs": [
    {
     "data": {
      "text/plain": [
       "Suburb           0\n",
       "Address          0\n",
       "Rooms            0\n",
       "Type             0\n",
       "Price            0\n",
       "Method           0\n",
       "SellerG          0\n",
       "Date             0\n",
       "Distance         0\n",
       "Postcode         0\n",
       "CouncilArea      0\n",
       "Regionname       0\n",
       "Propertycount    0\n",
       "dtype: int64"
      ]
     },
     "execution_count": 26,
     "metadata": {},
     "output_type": "execute_result"
    }
   ],
   "source": [
    "# cek hasilnya\n",
    "df_merged.isna().sum()"
   ]
  },
  {
   "cell_type": "markdown",
   "id": "5fa904bb-fc01-4838-8903-ec35655d8e43",
   "metadata": {},
   "source": [
    "> setelah di handling semua null pada data sudah tidak ada"
   ]
  },
  {
   "cell_type": "markdown",
   "id": "fc57f572-6a99-4e44-bb82-162de2f089ac",
   "metadata": {},
   "source": [
    "### Handling Outliers"
   ]
  },
  {
   "cell_type": "code",
   "execution_count": 27,
   "id": "bcdd542a-30b2-42d5-8ccc-1830ed0df737",
   "metadata": {},
   "outputs": [
    {
     "data": {
      "image/png": "[encoded data removed]",
      "text/plain": [
       "<Figure size 2160x1440 with 5 Axes>"
      ]
     },
     "metadata": {
      "needs_background": "light"
     },
     "output_type": "display_data"
    }
   ],
   "source": [
    "# cek outlier\n",
    "plt.figure(figsize=(30,20))\n",
    "features = [\"Rooms\", \"Price\", \"Distance\", \"Postcode\", \"Propertycount\"]\n",
    "for i in range(0, len(features)):\n",
    "    plt.subplot(3, 9, i+1)\n",
    "    sns.boxplot(y=df_merged[features[i]], color ='red',orient='h')\n",
    "    plt.xlabel(features[i])"
   ]
  },
  {
   "cell_type": "markdown",
   "id": "e4c5ab94-757c-4228-a180-1058db0a4f7c",
   "metadata": {},
   "source": [
    "> Terdapat banyak outlier yang harus di handling"
   ]
  },
  {
   "cell_type": "code",
   "execution_count": 28,
   "id": "b74273e9-e642-415a-ae3a-1819e0f2ffb6",
   "metadata": {},
   "outputs": [],
   "source": [
    "# gunakan fungsi untuk mencari quantile dan outliers\n",
    "def find_outliers(data):\n",
    "    \n",
    "    # hitung nilai Q1 dan Q3\n",
    "    Q1 = np.quantile(data, .25)\n",
    "    Q3 = np.quantile(data, .75)\n",
    "    \n",
    "    # hitung nilai IQR\n",
    "    IQR = Q3 - Q1\n",
    "    min_IQR = Q1 - 1.5 * IQR\n",
    "    max_IQR = Q3 + 1.5 * IQR\n",
    "    \n",
    "    #looping dan append outliers\n",
    "    low_out = []\n",
    "    upper_out = []\n",
    "    \n",
    "    for i in data:\n",
    "        if (i < min_IQR):\n",
    "            low_out.append(i)\n",
    "        if (i > max_IQR):\n",
    "            upper_out.append(i)\n",
    "            \n",
    "    return low_out, upper_out"
   ]
  },
  {
   "cell_type": "markdown",
   "id": "ef4de6d1-37ca-43ed-ad5c-99cec432479b",
   "metadata": {},
   "source": [
    "> mendeteksi dan menghilangkan outlier di kolom Rooms"
   ]
  },
  {
   "cell_type": "code",
   "execution_count": 29,
   "id": "433cd13b-9508-4823-a035-4e91a9ccf2a8",
   "metadata": {},
   "outputs": [],
   "source": [
    "# cari outliers baru dengan fungsi IQR\n",
    "lower_out = find_outliers(df_merged['Rooms'])[0]\n",
    "upper_out = find_outliers(df_merged['Rooms'])[1]"
   ]
  },
  {
   "cell_type": "code",
   "execution_count": 30,
   "id": "9a2d3107-93ed-4125-b001-b2a1dc620d2d",
   "metadata": {},
   "outputs": [
    {
     "name": "stdout",
     "output_type": "stream",
     "text": [
      "0\n",
      "33\n"
     ]
    }
   ],
   "source": [
    "print(len(lower_out))\n",
    "print(len(upper_out))"
   ]
  },
  {
   "cell_type": "code",
   "execution_count": 31,
   "id": "7bb07db2-78c7-42b4-a3b3-8623c538860a",
   "metadata": {},
   "outputs": [
    {
     "name": "stdout",
     "output_type": "stream",
     "text": [
      "Upper Limit: 7.0\n"
     ]
    }
   ],
   "source": [
    "# hitung nilai IQR dan batas atas\n",
    "iqr = df_merged[\"Rooms\"].quantile(.75) - df_merged[\"Rooms\"].quantile(.25)\n",
    "upper_limit = df_merged[\"Rooms\"].quantile(.75) + 1.5 * iqr\n",
    "\n",
    "print(\"Upper Limit:\", upper_limit)"
   ]
  },
  {
   "cell_type": "code",
   "execution_count": 32,
   "id": "3b82b981-0390-4488-861a-93b205dc1795",
   "metadata": {},
   "outputs": [
    {
     "data": {
      "text/plain": [
       "5.0"
      ]
     },
     "execution_count": 32,
     "metadata": {},
     "output_type": "execute_result"
    }
   ],
   "source": [
    "# cari batasan quantile untuk winsorize\n",
    "df_merged[\"Rooms\"].quantile(.95)"
   ]
  },
  {
   "cell_type": "code",
   "execution_count": 33,
   "id": "78b7c212-6720-489c-a3fe-c6f275950650",
   "metadata": {},
   "outputs": [],
   "source": [
    "# copy dataframe\n",
    "df_win = df_merged.copy()"
   ]
  },
  {
   "cell_type": "code",
   "execution_count": 34,
   "id": "e87798ce-9646-4a65-aaa8-0eb8046c318b",
   "metadata": {},
   "outputs": [],
   "source": [
    "df_win[\"Rooms_wins\"] = stats.mstats.winsorize(df_merged[\"Rooms\"], limits=(0, 0.05))"
   ]
  },
  {
   "cell_type": "code",
   "execution_count": 35,
   "id": "1e8e53f3-10af-4939-82cd-7b39029be69c",
   "metadata": {},
   "outputs": [
    {
     "data": {
      "image/png": "[encoded data removed]",
      "text/plain": [
       "<Figure size 432x288 with 1 Axes>"
      ]
     },
     "metadata": {
      "needs_background": "light"
     },
     "output_type": "display_data"
    }
   ],
   "source": [
    "# visualisasi dengan boxplot\n",
    "sns.boxplot(data=df_win[[\"Rooms_wins\", \"Rooms\"]], palette=\"Accent\", orient=\"h\")\n",
    "plt.show()"
   ]
  },
  {
   "cell_type": "markdown",
   "id": "a1bfa6f5-9e02-4124-9cf9-9ebad773de5d",
   "metadata": {},
   "source": [
    "> deteksi outlier dan menghilangkanya di kolom price"
   ]
  },
  {
   "cell_type": "code",
   "execution_count": 36,
   "id": "f3437d71-211e-4e5d-a3d3-ffc1a5d994b1",
   "metadata": {},
   "outputs": [],
   "source": [
    "# cari outliers baru dengan fungsi IQR\n",
    "lower_out = find_outliers(df_merged['Price'])[0]\n",
    "upper_out = find_outliers(df_merged['Price'])[1]"
   ]
  },
  {
   "cell_type": "code",
   "execution_count": 37,
   "id": "0a260aa6-4dab-4da5-abb1-e459d2fe9dbf",
   "metadata": {},
   "outputs": [
    {
     "name": "stdout",
     "output_type": "stream",
     "text": [
      "0\n",
      "1222\n"
     ]
    }
   ],
   "source": [
    "print(len(lower_out))\n",
    "print(len(upper_out))"
   ]
  },
  {
   "cell_type": "code",
   "execution_count": 38,
   "id": "d62e97be-6565-4586-aaa6-d6664ff43417",
   "metadata": {},
   "outputs": [
    {
     "name": "stdout",
     "output_type": "stream",
     "text": [
      "Upper Limit: 2300000.0\n"
     ]
    }
   ],
   "source": [
    "# hitung nilai IQR dan batas atas\n",
    "iqr = df_merged[\"Price\"].quantile(.75) - df_merged[\"Price\"].quantile(.25)\n",
    "upper_limit = df_merged[\"Price\"].quantile(.75) + 1.5 * iqr\n",
    "\n",
    "print(\"Upper Limit:\", upper_limit)"
   ]
  },
  {
   "cell_type": "code",
   "execution_count": 39,
   "id": "e07a35ad-85dc-484a-87f9-dadc7784fdf1",
   "metadata": {},
   "outputs": [
    {
     "data": {
      "text/plain": [
       "2055000.0"
      ]
     },
     "execution_count": 39,
     "metadata": {},
     "output_type": "execute_result"
    }
   ],
   "source": [
    "# cari batasan quantile untuk winsorize\n",
    "df_merged[\"Price\"].quantile(.95)"
   ]
  },
  {
   "cell_type": "code",
   "execution_count": 40,
   "id": "9a7f33b8-5188-45a2-adf1-2aea5e4c4208",
   "metadata": {},
   "outputs": [],
   "source": [
    "# copy dataframe\n",
    "df_win1 = df_merged.copy()"
   ]
  },
  {
   "cell_type": "code",
   "execution_count": 41,
   "id": "b0caa1b6-4e9e-4e62-b72a-fbfd40fffdd7",
   "metadata": {},
   "outputs": [],
   "source": [
    "df_win1[\"Price_wins\"] = stats.mstats.winsorize(df_merged[\"Price\"], limits=(0, 0.05))"
   ]
  },
  {
   "cell_type": "code",
   "execution_count": 42,
   "id": "927343d3-18ae-42a1-956f-76c1bb3231ea",
   "metadata": {},
   "outputs": [
    {
     "data": {
      "image/png": "[encoded data removed]",
      "text/plain": [
       "<Figure size 432x288 with 1 Axes>"
      ]
     },
     "metadata": {
      "needs_background": "light"
     },
     "output_type": "display_data"
    }
   ],
   "source": [
    "# visualisasi dengan boxplot\n",
    "sns.boxplot(data=df_win1[[\"Price_wins\", \"Price\"]], palette=\"Accent\", orient=\"h\")\n",
    "plt.show()"
   ]
  },
  {
   "cell_type": "markdown",
   "id": "e76f33ce-2903-4d31-8b38-94b8f7c31804",
   "metadata": {},
   "source": [
    "> deteksi outlier dan menghilangkanya di kolom Distance"
   ]
  },
  {
   "cell_type": "code",
   "execution_count": 43,
   "id": "50f6e32b-c97f-4fdf-a087-24e3a510c1c2",
   "metadata": {},
   "outputs": [],
   "source": [
    "# cari outliers baru dengan fungsi IQR\n",
    "lower_out = find_outliers(df_merged['Distance'])[0]\n",
    "upper_out = find_outliers(df_merged['Distance'])[1]"
   ]
  },
  {
   "cell_type": "code",
   "execution_count": 44,
   "id": "2f245c5b-bec2-44ae-8338-d8dde2b43579",
   "metadata": {},
   "outputs": [
    {
     "name": "stdout",
     "output_type": "stream",
     "text": [
      "0\n",
      "1467\n"
     ]
    }
   ],
   "source": [
    "print(len(lower_out))\n",
    "print(len(upper_out))"
   ]
  },
  {
   "cell_type": "code",
   "execution_count": 45,
   "id": "85bcd95e-16fe-43f0-80ee-6aa1ff66f970",
   "metadata": {},
   "outputs": [
    {
     "name": "stdout",
     "output_type": "stream",
     "text": [
      "Upper Limit: 25.4\n"
     ]
    }
   ],
   "source": [
    "# hitung nilai IQR dan batas atas\n",
    "iqr = df_merged[\"Distance\"].quantile(.75) - df_merged[\"Distance\"].quantile(.25)\n",
    "upper_limit = df_merged[\"Distance\"].quantile(.75) + 1.5 * iqr\n",
    "\n",
    "print(\"Upper Limit:\", upper_limit)"
   ]
  },
  {
   "cell_type": "code",
   "execution_count": 46,
   "id": "9d3bd5b3-8332-4d2b-8239-f9caa7ec4ff3",
   "metadata": {},
   "outputs": [
    {
     "data": {
      "text/plain": [
       "24.7"
      ]
     },
     "execution_count": 46,
     "metadata": {},
     "output_type": "execute_result"
    }
   ],
   "source": [
    "# cari batasan quantile untuk winsorize\n",
    "df_merged[\"Distance\"].quantile(.95)"
   ]
  },
  {
   "cell_type": "code",
   "execution_count": 47,
   "id": "282955cc-c58f-48be-8919-f074506f90d7",
   "metadata": {},
   "outputs": [],
   "source": [
    "# copy dataframe\n",
    "df_win2 = df_merged.copy()"
   ]
  },
  {
   "cell_type": "code",
   "execution_count": 48,
   "id": "37b5b2f8-cdba-4328-8d77-7c87aee0dac3",
   "metadata": {},
   "outputs": [],
   "source": [
    "df_win2[\"Distance_wins\"] = stats.mstats.winsorize(df_merged[\"Distance\"], limits=(0, 0.05))"
   ]
  },
  {
   "cell_type": "code",
   "execution_count": 49,
   "id": "fc81b631-c54b-4452-b53d-8dae7420863b",
   "metadata": {},
   "outputs": [
    {
     "data": {
      "image/png": "[encoded data removed]",
      "text/plain": [
       "<Figure size 432x288 with 1 Axes>"
      ]
     },
     "metadata": {
      "needs_background": "light"
     },
     "output_type": "display_data"
    }
   ],
   "source": [
    "# visualisasi dengan boxplot\n",
    "sns.boxplot(data=df_win2[[\"Distance_wins\", \"Distance\"]], palette=\"Accent\", orient=\"h\")\n",
    "plt.show()"
   ]
  },
  {
   "cell_type": "markdown",
   "id": "70aac10c-7167-4256-ab73-52474c68c5f2",
   "metadata": {},
   "source": [
    "> deteksi outlier dan menghilangkanya di kolom Postcode"
   ]
  },
  {
   "cell_type": "code",
   "execution_count": 50,
   "id": "0b09b94c-212d-448a-a832-a8ce1cd6327b",
   "metadata": {},
   "outputs": [],
   "source": [
    "# cari outliers baru dengan fungsi IQR\n",
    "lower_out = find_outliers(df_merged['Postcode'])[0]\n",
    "upper_out = find_outliers(df_merged['Postcode'])[1]"
   ]
  },
  {
   "cell_type": "code",
   "execution_count": 51,
   "id": "11e3f6ec-0990-4a6b-81a7-acef5ec67890",
   "metadata": {},
   "outputs": [
    {
     "name": "stdout",
     "output_type": "stream",
     "text": [
      "0\n",
      "959\n"
     ]
    }
   ],
   "source": [
    "print(len(lower_out))\n",
    "print(len(upper_out))"
   ]
  },
  {
   "cell_type": "code",
   "execution_count": 52,
   "id": "751bc093-f0c9-44b3-acf1-10f24c925f18",
   "metadata": {},
   "outputs": [
    {
     "name": "stdout",
     "output_type": "stream",
     "text": [
      "Upper Limit: 3313.5\n"
     ]
    }
   ],
   "source": [
    "# hitung nilai IQR dan batas atas\n",
    "iqr = df_merged[\"Postcode\"].quantile(.75) - df_merged[\"Postcode\"].quantile(.25)\n",
    "upper_limit = df_merged[\"Postcode\"].quantile(.75) + 1.5 * iqr\n",
    "\n",
    "print(\"Upper Limit:\", upper_limit)"
   ]
  },
  {
   "cell_type": "code",
   "execution_count": 53,
   "id": "1908030a-7835-4892-baac-d9756ab777c7",
   "metadata": {},
   "outputs": [
    {
     "data": {
      "text/plain": [
       "3207.0"
      ]
     },
     "execution_count": 53,
     "metadata": {},
     "output_type": "execute_result"
    }
   ],
   "source": [
    "# cari batasan quantile untuk winsorize\n",
    "df_merged[\"Postcode\"].quantile(.97)"
   ]
  },
  {
   "cell_type": "code",
   "execution_count": 54,
   "id": "794563b0-75f0-47b3-bc4e-4d1bae9d9fbe",
   "metadata": {},
   "outputs": [],
   "source": [
    "# copy dataframe\n",
    "df_win3 = df_merged.copy()"
   ]
  },
  {
   "cell_type": "code",
   "execution_count": 55,
   "id": "89adc5fa-5770-458c-943a-5d2aa6706155",
   "metadata": {},
   "outputs": [],
   "source": [
    "df_win3[\"Postcode_wins\"] = stats.mstats.winsorize(df_merged[\"Postcode\"], limits=(0, 0.03))"
   ]
  },
  {
   "cell_type": "code",
   "execution_count": 56,
   "id": "d76d109e-c236-4cdf-91dd-edcc4649a99f",
   "metadata": {},
   "outputs": [
    {
     "data": {
      "image/png": "[encoded data removed]",
      "text/plain": [
       "<Figure size 432x288 with 1 Axes>"
      ]
     },
     "metadata": {
      "needs_background": "light"
     },
     "output_type": "display_data"
    }
   ],
   "source": [
    "# visualisasi dengan boxplot\n",
    "sns.boxplot(data=df_win3[[\"Postcode_wins\", \"Postcode\"]], palette=\"Accent\", orient=\"h\")\n",
    "plt.show()"
   ]
  },
  {
   "cell_type": "markdown",
   "id": "874c7d0f-2271-4227-9bf8-eec4d3571d35",
   "metadata": {},
   "source": [
    "> deteksi outlier dan menghilangkanya di kolom Propertycount"
   ]
  },
  {
   "cell_type": "code",
   "execution_count": 57,
   "id": "12bf8d96-94af-43a6-b38d-0bdfc107f694",
   "metadata": {},
   "outputs": [],
   "source": [
    "# cari outliers baru dengan fungsi IQR\n",
    "lower_out = find_outliers(df_merged['Propertycount'])[0]\n",
    "upper_out = find_outliers(df_merged['Propertycount'])[1]"
   ]
  },
  {
   "cell_type": "code",
   "execution_count": 58,
   "id": "0553a403-3fca-4658-8c5e-8a5fc4301e28",
   "metadata": {},
   "outputs": [
    {
     "name": "stdout",
     "output_type": "stream",
     "text": [
      "0\n",
      "844\n"
     ]
    }
   ],
   "source": [
    "print(len(lower_out))\n",
    "print(len(upper_out))"
   ]
  },
  {
   "cell_type": "code",
   "execution_count": 59,
   "id": "ae50befb-ae81-4512-b3b0-620eee879fc5",
   "metadata": {},
   "outputs": [
    {
     "name": "stdout",
     "output_type": "stream",
     "text": [
      "Upper Limit: 19452.5\n"
     ]
    }
   ],
   "source": [
    "# hitung nilai IQR dan batas atas\n",
    "iqr = df_merged[\"Propertycount\"].quantile(.75) - df_merged[\"Propertycount\"].quantile(.25)\n",
    "upper_limit = df_merged[\"Propertycount\"].quantile(.75) + 1.5 * iqr\n",
    "\n",
    "print(\"Upper Limit:\", upper_limit)"
   ]
  },
  {
   "cell_type": "code",
   "execution_count": 60,
   "id": "b2226070-3da7-4f06-bdf2-13363c982d16",
   "metadata": {},
   "outputs": [
    {
     "data": {
      "text/plain": [
       "17496.0"
      ]
     },
     "execution_count": 60,
     "metadata": {},
     "output_type": "execute_result"
    }
   ],
   "source": [
    "# cari batasan quantile untuk winsorize\n",
    "df_merged[\"Propertycount\"].quantile(.97)"
   ]
  },
  {
   "cell_type": "code",
   "execution_count": 61,
   "id": "404b9089-0bd4-4f3e-baca-d2f9f20ecc0a",
   "metadata": {},
   "outputs": [],
   "source": [
    "# copy dataframe\n",
    "df_win4 = df_merged.copy()"
   ]
  },
  {
   "cell_type": "code",
   "execution_count": 62,
   "id": "ea6e0650-e7e6-485d-a4bb-73defc3c3ec4",
   "metadata": {},
   "outputs": [],
   "source": [
    "df_win4[\"Propertycount_wins\"] = stats.mstats.winsorize(df_merged[\"Propertycount\"], limits=(0, 0.03))"
   ]
  },
  {
   "cell_type": "code",
   "execution_count": 63,
   "id": "6d69bfd4-4dbc-4264-8b05-ed9fdf732e18",
   "metadata": {},
   "outputs": [
    {
     "data": {
      "image/png": "[encoded data removed]",
      "text/plain": [
       "<Figure size 432x288 with 1 Axes>"
      ]
     },
     "metadata": {
      "needs_background": "light"
     },
     "output_type": "display_data"
    }
   ],
   "source": [
    "# visualisasi dengan boxplot\n",
    "sns.boxplot(data=df_win4[[\"Propertycount_wins\", \"Propertycount\"]], palette=\"Accent\", orient=\"h\")\n",
    "plt.show()"
   ]
  }
 ],
 "metadata": {
  "kernelspec": {
   "display_name": "Python 3",
   "language": "python",
   "name": "python3"
  },
  "language_info": {
   "codemirror_mode": {
    "name": "ipython",
    "version": 3
   },
   "file_extension": ".py",
   "mimetype": "text/x-python",
   "name": "python",
   "nbconvert_exporter": "python",
   "pygments_lexer": "ipython3",
   "version": "3.8.2"
  }
 },
 "nbformat": 4,
 "nbformat_minor": 5
}
